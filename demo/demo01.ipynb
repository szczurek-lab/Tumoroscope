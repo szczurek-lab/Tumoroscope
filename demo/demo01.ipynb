{
 "cells": [
  {
   "cell_type": "code",
   "execution_count": 4,
   "id": "7e1adb3e",
   "metadata": {},
   "outputs": [],
   "source": [
    "from tumoroscope.run_tumoroscope import run_tumoroscope\n",
    "from tumoroscope.simulation import simulation as sim\n",
    "from tumoroscope.visualization import visualization as vis\n",
    "from tumoroscope.tumoroscope import tumoroscope as tum\n",
    "from tumoroscope import constants\n",
    "import pickle\n",
    "import numpy as np\n",
    "import random\n",
    "from multiprocessing import Pool\n",
    "import time\n",
    "import json\n",
    "import re\n",
    "import pandas as pd\n",
    "import glob, os\n",
    "import sys\n",
    "import matplotlib.pyplot as plt\n",
    "import seaborn as sns\n",
    "import matplotlib as mpl"
   ]
  },
  {
   "cell_type": "code",
   "execution_count": 8,
   "id": "717c09e7",
   "metadata": {},
   "outputs": [
    {
     "name": "stdout",
     "output_type": "stream",
     "text": [
      "Directory  Result_demo  Created \n",
      "Directory  Result_demo/n_var_simulation_demo_visualization  Created \n"
     ]
    },
    {
     "name": "stderr",
     "output_type": "stream",
     "text": [
      "<timed exec>:66: DeprecationWarning: `np.int` is a deprecated alias for the builtin `int`. To silence this warning, use `int` by itself. Doing this will not modify any behavior and is safe. When replacing `np.int`, you may wish to use e.g. `np.int64` or `np.int32` to specify the precision. If you wish to review your current use, check the release note link for additional information.\n",
      "Deprecated in NumPy 1.20; for more details and guidance: https://numpy.org/devdocs/release/1.20.0-notes.html#deprecations\n",
      "<timed exec>:67: DeprecationWarning: `np.int` is a deprecated alias for the builtin `int`. To silence this warning, use `int` by itself. Doing this will not modify any behavior and is safe. When replacing `np.int`, you may wish to use e.g. `np.int64` or `np.int32` to specify the precision. If you wish to review your current use, check the release note link for additional information.\n",
      "Deprecated in NumPy 1.20; for more details and guidance: https://numpy.org/devdocs/release/1.20.0-notes.html#deprecations\n",
      "<timed exec>:68: DeprecationWarning: `np.int` is a deprecated alias for the builtin `int`. To silence this warning, use `int` by itself. Doing this will not modify any behavior and is safe. When replacing `np.int`, you may wish to use e.g. `np.int64` or `np.int32` to specify the precision. If you wish to review your current use, check the release note link for additional information.\n",
      "Deprecated in NumPy 1.20; for more details and guidance: https://numpy.org/devdocs/release/1.20.0-notes.html#deprecations\n",
      "<timed exec>:69: DeprecationWarning: `np.int` is a deprecated alias for the builtin `int`. To silence this warning, use `int` by itself. Doing this will not modify any behavior and is safe. When replacing `np.int`, you may wish to use e.g. `np.int64` or `np.int32` to specify the precision. If you wish to review your current use, check the release note link for additional information.\n",
      "Deprecated in NumPy 1.20; for more details and guidance: https://numpy.org/devdocs/release/1.20.0-notes.html#deprecations\n",
      "<timed exec>:70: DeprecationWarning: `np.int` is a deprecated alias for the builtin `int`. To silence this warning, use `int` by itself. Doing this will not modify any behavior and is safe. When replacing `np.int`, you may wish to use e.g. `np.int64` or `np.int32` to specify the precision. If you wish to review your current use, check the release note link for additional information.\n",
      "Deprecated in NumPy 1.20; for more details and guidance: https://numpy.org/devdocs/release/1.20.0-notes.html#deprecations\n"
     ]
    },
    {
     "name": "stdout",
     "output_type": "stream",
     "text": [
      "simulation finished\n",
      "simulation finished\n",
      "Batch 0 finished with [61.67 74.17 44.17 43.33 49.17 50.  ]% convergence for [0,10,20,30,40,50]% burn-in.\n",
      "Batch 1 finished with [85.83 61.67 45.83 48.33 50.   46.67]% convergence for [0,10,20,30,40,50]% burn-in.\n",
      "Batch 2 finished with [89.17 53.33 59.17 55.83 59.17 46.67]% convergence for [0,10,20,30,40,50]% burn-in.\n",
      "Batch 3 finished with [90.   48.33 53.33 53.33 55.83 62.5 ]% convergence for [0,10,20,30,40,50]% burn-in.\n",
      "Batch 4 finished with [90.   45.83 53.33 45.83 53.33 51.67]% convergence for [0,10,20,30,40,50]% burn-in.\n",
      "Batch 5 finished with [90.   50.   45.83 60.   55.   64.17]% convergence for [0,10,20,30,40,50]% burn-in.\n",
      "Batch 6 finished with [90.83 54.17 51.67 54.17 65.   53.33]% convergence for [0,10,20,30,40,50]% burn-in.\n",
      "Batch 7 finished with [90.83 55.   64.17 54.17 58.33 58.33]% convergence for [0,10,20,30,40,50]% burn-in.\n",
      "Batch 8 finished with [93.33 56.67 57.5  67.5  63.33 60.83]% convergence for [0,10,20,30,40,50]% burn-in.\n",
      "Batch 9 finished with [93.33 55.83 57.5  68.33 66.67 70.  ]% convergence for [0,10,20,30,40,50]% burn-in.\n",
      "Batch 10 finished with [95.   62.5  61.67 62.5  59.17 64.17]% convergence for [0,10,20,30,40,50]% burn-in.\n",
      "Batch 11 finished with [94.17 59.17 65.   60.83 60.   58.33]% convergence for [0,10,20,30,40,50]% burn-in.\n",
      "Batch 12 finished with [95.   56.67 63.33 55.   55.83 55.83]% convergence for [0,10,20,30,40,50]% burn-in.\n",
      "Batch 13 finished with [95.   55.   57.5  51.67 56.67 62.5 ]% convergence for [0,10,20,30,40,50]% burn-in.\n",
      "Batch 14 finished with [94.17 55.   54.17 50.83 55.83 65.83]% convergence for [0,10,20,30,40,50]% burn-in.\n",
      "Batch 15 finished with [94.17 58.33 55.83 56.67 60.   75.  ]% convergence for [0,10,20,30,40,50]% burn-in.\n",
      "Batch 16 finished with [93.33 59.17 56.67 55.83 66.67 81.67]% convergence for [0,10,20,30,40,50]% burn-in.\n",
      "Batch 17 finished with [94.17 58.33 56.67 56.67 65.   94.17]% convergence for [0,10,20,30,40,50]% burn-in.\n",
      "Batch 18 finished with [94.17 57.5  55.83 57.5  69.17 97.5 ]% convergence for [0,10,20,30,40,50]% burn-in.\n",
      "************* Inference started ************\n",
      "The number of samples was 2000\n",
      "[ 94.17  60.    57.5   60.    55.83  58.33  61.67  67.5   81.67  95.83\n",
      " 100.    98.33  99.17 100.   100.    98.33  97.5   95.83  90.83  90.  ]\n",
      "100.0\n",
      "batch_count:  20\n",
      "batch_n:  100\n",
      "samples_count:  2000\n",
      "Number of samples after discarding the burn-in  1000\n",
      "CPU times: user 1min 55s, sys: 2.72 s, total: 1min 58s\n",
      "Wall time: 1min 56s\n"
     ]
    }
   ],
   "source": [
    "%%time\n",
    "pi_2D = True\n",
    "th = 0.8 # threshhold for Z\n",
    "constants.VISUALIZATION = 'visualization'\n",
    "constants.CHAINS = 1\n",
    "constants.CORES = 35\n",
    "every_n_sample = 5\n",
    "l=1\n",
    "changes_batch= 500\n",
    "constants.RESULTS = 'Result_demo'\n",
    "number = '1'\n",
    "config_file =  '../configs/simulation_demo.json'\n",
    "noise = '1'\n",
    "\n",
    "\n",
    "result_txt = constants.RESULTS+'/results_'\n",
    "optimal_rate = 0.40\n",
    "test = constants.RESULTS\n",
    "begin= time.time()\n",
    "\n",
    "if not os.path.exists(constants.RESULTS):\n",
    "    os.makedirs(constants.RESULTS)\n",
    "    print(\"Directory \", constants.RESULTS, \" Created \")\n",
    "else:\n",
    "    print(\"Directory \", constants.RESULTS, \" already exists\")\n",
    "\n",
    "file_name = re.split(\"/|.json\",config_file)[2]\n",
    "vis_1 = vis(constants.RESULTS + '/n_var_' + file_name + '_' + constants.VISUALIZATION)\n",
    "with open(config_file) as json_data_file:\n",
    "    data = json.load(json_data_file)\n",
    "\n",
    "K = data['structure']['K']\n",
    "S = data['structure']['S']\n",
    "I = data['structure']['I']\n",
    "theta = data['structure']['theta']\n",
    "\n",
    "p_c_binom = data['C_variation']['p_c_binom']\n",
    "C_temp = data['C_variation']['C']\n",
    "repeat_temp = data['C_variation']['repeat']\n",
    "if C_temp is None:\n",
    "    C = None\n",
    "else:\n",
    "    C_t = []\n",
    "    for ct in range(len(C_temp)):\n",
    "        C_t.append(np.tile(C_temp[ct], (repeat_temp[ct], 1)))\n",
    "    C = np.concatenate(C_t)\n",
    "vis_1.heatmap_seaborn(C, 'C_seaborn', 'clones', 'mutations', False, 0.5)\n",
    "sns.set_theme()\n",
    "    \n",
    "ax = sns.heatmap(C, annot=False, linewidths=0.5)\n",
    "ax.set(xlabel='clones', ylabel='mutations')\n",
    "fig = ax.get_figure()\n",
    "fig.savefig(constants.RESULTS+'/C_seaborn_new' + '.png')\n",
    "plt.close()\n",
    "\n",
    "n_sampling = data['n_variation']['n_sampling']\n",
    "\n",
    "if data['n_variation']['n'] is not None:\n",
    "    n = np.array(data['n_variation']['n'])\n",
    "else:\n",
    "    n = None\n",
    "\n",
    "Z = data['Z_variation']['Z']\n",
    "avarage_clone_in_spot = data['Z_variation']['avarage_clone_in_spot']\n",
    "\n",
    "\n",
    "max_iter = np.int(data['smapling']['max_iter'])\n",
    "min_iter = np.int(data['smapling']['min_iter'])\n",
    "burn_in = np.int(data['smapling']['burn_in'])\n",
    "batch = np.int(data['smapling']['batch'])\n",
    "var_calculation = np.int(data['smapling']['min_iter']*0.9)\n",
    "\n",
    "phi_gamma = np.array(data['Gamma']['phi_gamma'])\n",
    "        # F could be None, In that case, it will be generated using dirichlet distribution\n",
    "F_epsilon = np.tile(data['Gamma']['F_epsilon'], (K, 1))\n",
    "F_fraction =  data['Gamma']['F_fraction']\n",
    "\n",
    "F = np.tile(data['Gamma']['F'], (K, 1))  # np.array([[9,2],[9,2],[9,2],[9,2],[9,2],[9,2]])\n",
    "phi_gamma_selected = np.array(data['Gamma']['phi_gamma_selected'])\n",
    "\n",
    "F_epsilon_selected = np.tile(data['Gamma']['F_epsilon_selected'], (K, 1))\n",
    "F_selected = np.tile(data['Gamma']['F_selected'], (K, 1))  # np.array([[9,2],[9,2],[9,2],[9,2],[9,2],[9,2]])\n",
    "gamma = data['theta']['gamma']\n",
    "gamma_sampling = data['theta']['gamma_sampling']\n",
    "theta_variable = data['theta']['theta_variable']\n",
    "\n",
    "n_lambda = np.tile(data['n_variation']['n_lambda'], (S))\n",
    "#while(True):\n",
    "sample_1 = sim(K=K,S=S,r=phi_gamma[0],p=phi_gamma[1],I=I,F=F,D=None,A=None,C=C,avarage_clone_in_spot=avarage_clone_in_spot,random_seed=random.randint(1,100),F_epsilon= F_epsilon,n=n,p_c_binom=p_c_binom,theta=theta,Z = Z,n_lambda=n_lambda,F_fraction=F_fraction,theta_variable=theta_variable,gamma=gamma, pi_2D=pi_2D)\n",
    "#    if  np.mean(np.sum(sample_1.D, axis=0)) > int(data['Gamma']['mean_read']) - 2 and np.mean(np.sum(sample_1.D, axis=0)) < int(data['Gamma']['mean_read']) + 2:\n",
    "#        break\n",
    "#print('reads average: '+str(np.mean(np.sum(sample_1.D, axis=0))))\n",
    "if noise=='0':\n",
    "    n_lambda_tum = sample_1.n\n",
    "else:\n",
    "    b = np.random.binomial(n=1,p=0.5,size=S)\n",
    "    noise_pois = np.random.poisson(lam=int(noise),size=S)\n",
    "    n_lambda_tum = sample_1.n+noise_pois*b+noise_pois*(b-1)\n",
    "    n_lambda_tum[n_lambda_tum<1]=1\n",
    "\n",
    "vis_1.visualizing_simulated_data(sample_1)\n",
    "pickle.dump(sample_1, open(constants.RESULTS+'/sample_1_'+file_name, 'wb'))\n",
    "\n",
    "tum_obj=(tum(name = constants.RESULTS +'/'+ file_name+'_chain_'+str(constants.CHAINS),K=sample_1.K,S=sample_1.S,r=phi_gamma_selected[0],p=phi_gamma_selected[1],I=sample_1.I,avarage_clone_in_spot=sample_1.avarage_clone_in_spot,F = F_selected,C = sample_1.C,A = sample_1.A,D = sample_1.D,F_epsilon=F_epsilon_selected,optimal_rate=optimal_rate,n_lambda = n_lambda_tum,gamma = gamma_sampling, pi_2D=pi_2D,result_txt=result_txt+file_name+'.txt'))\n",
    "tum_obj.gibbs_sampling(seed = random.randint(1,100) ,min_iter=min_iter,max_iter = max_iter,burn_in=burn_in, batch = batch,simulated_data= sample_1,n_sampling=True,F_fraction=F_fraction,theta_variable = theta_variable, pi_2D=pi_2D,th=th,every_n_sample=every_n_sample,changes_batch=changes_batch,var_calculation=var_calculation)\n",
    "pickle.dump(tum_obj, open(constants.RESULTS+'/tum_all_'+file_name, 'wb'))\n"
   ]
  },
  {
   "cell_type": "code",
   "execution_count": 9,
   "id": "6e788e30",
   "metadata": {},
   "outputs": [
    {
     "data": {
      "text/plain": [
       "Text(0.5, 1.0, 'Mean Average Error (MAE): 0.0071')"
      ]
     },
     "execution_count": 9,
     "metadata": {},
     "output_type": "execute_result"
    },
    {
     "data": {
      "image/png": "[encoded data removed]",
      "text/plain": [
       "<Figure size 320x320 with 1 Axes>"
      ]
     },
     "metadata": {},
     "output_type": "display_data"
    }
   ],
   "source": [
    "mpl.style.use('classic')\n",
    "font_size=12\n",
    "fig, ax = plt.subplots(figsize=(4,4))\n",
    "ax.scatter(tum_obj.inferred_H.tolist(),sample_1.H.tolist())\n",
    "ax.set_ylabel('True fraction of the clones', fontsize=font_size,labelpad=0.05)\n",
    "ax.set_xlabel('Inferred fraction of the clones', fontsize=font_size,labelpad=0.05)\n",
    "ax.set_title('Mean Average Error (MAE): '+str(round(tum_obj.H_SEE,4)),fontsize=font_size, pad = 1.5)"
   ]
  },
  {
   "cell_type": "code",
   "execution_count": null,
   "id": "dd4141d4",
   "metadata": {},
   "outputs": [],
   "source": []
  }
 ],
 "metadata": {
  "kernelspec": {
   "display_name": "demo",
   "language": "python",
   "name": "demo"
  },
  "language_info": {
   "codemirror_mode": {
    "name": "ipython",
    "version": 3
   },
   "file_extension": ".py",
   "mimetype": "text/x-python",
   "name": "python",
   "nbconvert_exporter": "python",
   "pygments_lexer": "ipython3",
   "version": "3.8.13"
  }
 },
 "nbformat": 4,
 "nbformat_minor": 5
}
