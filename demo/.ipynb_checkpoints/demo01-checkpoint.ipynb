{
 "cells": [
  {
   "cell_type": "code",
   "execution_count": 1,
   "id": "bf4dfb94",
   "metadata": {},
   "outputs": [],
   "source": [
    "from tumoroscope.run_tumoroscope import run_tumoroscope\n",
    "from tumoroscope.simulation import simulation as sim\n",
    "from tumoroscope.visualization import visualization as vis\n",
    "from tumoroscope.tumoroscope import tumoroscope as tum\n",
    "from tumoroscope import constants\n",
    "import pickle\n",
    "import numpy as np\n",
    "import random\n",
    "from multiprocessing import Pool\n",
    "import time\n",
    "import json\n",
    "import re\n",
    "import pandas as pd\n",
    "import glob, os\n",
    "import sys\n",
    "import matplotlib.pyplot as plt\n",
    "import seaborn as sns"
   ]
  },
  {
   "cell_type": "code",
   "execution_count": 42,
   "id": "87b78510",
   "metadata": {},
   "outputs": [
    {
     "name": "stdout",
     "output_type": "stream",
     "text": [
      "Directory  Resutls_simulation_1  already exists\n",
      "Directory  Resutls_simulation_1/n_var_simulation_visualization  already exists\n"
     ]
    },
    {
     "name": "stderr",
     "output_type": "stream",
     "text": [
      "<timed exec>:81: DeprecationWarning: `np.int` is a deprecated alias for the builtin `int`. To silence this warning, use `int` by itself. Doing this will not modify any behavior and is safe. When replacing `np.int`, you may wish to use e.g. `np.int64` or `np.int32` to specify the precision. If you wish to review your current use, check the release note link for additional information.\n",
      "Deprecated in NumPy 1.20; for more details and guidance: https://numpy.org/devdocs/release/1.20.0-notes.html#deprecations\n",
      "<timed exec>:82: DeprecationWarning: `np.int` is a deprecated alias for the builtin `int`. To silence this warning, use `int` by itself. Doing this will not modify any behavior and is safe. When replacing `np.int`, you may wish to use e.g. `np.int64` or `np.int32` to specify the precision. If you wish to review your current use, check the release note link for additional information.\n",
      "Deprecated in NumPy 1.20; for more details and guidance: https://numpy.org/devdocs/release/1.20.0-notes.html#deprecations\n",
      "<timed exec>:83: DeprecationWarning: `np.int` is a deprecated alias for the builtin `int`. To silence this warning, use `int` by itself. Doing this will not modify any behavior and is safe. When replacing `np.int`, you may wish to use e.g. `np.int64` or `np.int32` to specify the precision. If you wish to review your current use, check the release note link for additional information.\n",
      "Deprecated in NumPy 1.20; for more details and guidance: https://numpy.org/devdocs/release/1.20.0-notes.html#deprecations\n",
      "<timed exec>:84: DeprecationWarning: `np.int` is a deprecated alias for the builtin `int`. To silence this warning, use `int` by itself. Doing this will not modify any behavior and is safe. When replacing `np.int`, you may wish to use e.g. `np.int64` or `np.int32` to specify the precision. If you wish to review your current use, check the release note link for additional information.\n",
      "Deprecated in NumPy 1.20; for more details and guidance: https://numpy.org/devdocs/release/1.20.0-notes.html#deprecations\n",
      "<timed exec>:85: DeprecationWarning: `np.int` is a deprecated alias for the builtin `int`. To silence this warning, use `int` by itself. Doing this will not modify any behavior and is safe. When replacing `np.int`, you may wish to use e.g. `np.int64` or `np.int32` to specify the precision. If you wish to review your current use, check the release note link for additional information.\n",
      "Deprecated in NumPy 1.20; for more details and guidance: https://numpy.org/devdocs/release/1.20.0-notes.html#deprecations\n"
     ]
    },
    {
     "name": "stdout",
     "output_type": "stream",
     "text": [
      "simulation finished\n",
      "reads average: [55565 57594 77120 54598 41153 53960 70866 46014 56266 56716 66858 55010\n",
      " 63070 53394 50240 48454 48830 44948 44444 50013]\n",
      "simulation finished\n",
      "Batch 0 finished with [30.   12.5  19.17 28.33 30.   39.17]% convergence for [0,10,20,30,40,50]% burn-in.\n",
      "Batch 1 finished with [41.67 41.67 41.67 42.5  46.67 49.17]% convergence for [0,10,20,30,40,50]% burn-in.\n",
      "Batch 2 finished with [56.67 46.67 45.   46.67 62.5  51.67]% convergence for [0,10,20,30,40,50]% burn-in.\n",
      "Batch 3 finished with [70.   59.17 51.67 50.   45.83 51.67]% convergence for [0,10,20,30,40,50]% burn-in.\n",
      "Batch 4 finished with [73.33 56.67 49.17 52.5  55.   50.  ]% convergence for [0,10,20,30,40,50]% burn-in.\n",
      "Batch 5 finished with [80.83 58.33 50.83 46.67 54.17 65.  ]% convergence for [0,10,20,30,40,50]% burn-in.\n",
      "Batch 6 finished with [84.17 66.67 60.83 52.5  70.83 54.17]% convergence for [0,10,20,30,40,50]% burn-in.\n",
      "Batch 7 finished with [86.67 66.67 62.5  54.17 56.67 50.  ]% convergence for [0,10,20,30,40,50]% burn-in.\n",
      "Batch 8 finished with [90.   67.5  60.83 62.5  47.5  50.83]% convergence for [0,10,20,30,40,50]% burn-in.\n",
      "Batch 9 finished with [90.83 67.5  62.5  52.5  42.5  41.67]% convergence for [0,10,20,30,40,50]% burn-in.\n",
      "Batch 10 finished with [92.5  64.17 52.5  36.67 35.   39.17]% convergence for [0,10,20,30,40,50]% burn-in.\n",
      "Batch 11 finished with [94.17 62.5  56.67 37.5  33.33 51.67]% convergence for [0,10,20,30,40,50]% burn-in.\n",
      "Batch 12 finished with [94.17 61.67 54.17 40.   40.   56.67]% convergence for [0,10,20,30,40,50]% burn-in.\n",
      "Batch 13 finished with [96.67 59.17 48.33 43.33 52.5  50.  ]% convergence for [0,10,20,30,40,50]% burn-in.\n",
      "Batch 14 finished with [97.5  62.5  48.33 43.33 49.17 65.83]% convergence for [0,10,20,30,40,50]% burn-in.\n",
      "Batch 15 finished with [97.5  66.67 52.5  50.83 59.17 75.83]% convergence for [0,10,20,30,40,50]% burn-in.\n",
      "Batch 16 finished with [96.67 74.17 58.33 61.67 64.17 78.33]% convergence for [0,10,20,30,40,50]% burn-in.\n",
      "Batch 17 finished with [96.67 70.83 60.   66.67 75.83 74.17]% convergence for [0,10,20,30,40,50]% burn-in.\n",
      "Batch 18 finished with [96.67 71.67 61.67 65.83 71.67 54.17]% convergence for [0,10,20,30,40,50]% burn-in.\n",
      "************* Inference started ************\n",
      "The number of samples was 400\n",
      "[95.83 69.17 72.5  58.33 64.17 62.5  61.67 70.83 55.83 47.5  44.17 41.67\n",
      " 25.83 25.   25.83 48.33 68.33 83.33 90.   90.  ]\n",
      "95.83\n",
      "batch_count:  20\n",
      "batch_n:  20\n",
      "samples_count:  400\n",
      "Number of samples after discarding the burn-in  400\n",
      "CPU times: user 31.4 s, sys: 2.53 s, total: 33.9 s\n",
      "Wall time: 27.9 s\n"
     ]
    }
   ],
   "source": [
    "%%time\n",
    "pi_2D = True\n",
    "th = 0.8 # threshhold for Z\n",
    "constants.VISUALIZATION = 'visualization'\n",
    "constants.CHAINS = 1\n",
    "constants.CORES = 35\n",
    "every_n_sample = 5\n",
    "l=1\n",
    "changes_batch= 500\n",
    "constants.RESULTS = 'Resutls_simulation_'\n",
    "constants.RESULTS = constants.RESULTS + '1'\n",
    "number = '1'\n",
    "config_file =  '../configs/simulation_demo.json'\n",
    "noise = '1'\n",
    "\n",
    "\n",
    "result_txt = constants.RESULTS+'/results_'\n",
    "result_txt_n = constants.RESULTS+'/results_n_'\n",
    "optimal_rate = 0.40\n",
    "test = constants.RESULTS\n",
    "begin= time.time()\n",
    "\n",
    "if not os.path.exists(constants.RESULTS):\n",
    "    os.makedirs(constants.RESULTS)\n",
    "    print(\"Directory \", constants.RESULTS, \" Created \")\n",
    "else:\n",
    "    print(\"Directory \", constants.RESULTS, \" already exists\")\n",
    "\n",
    "file_name = re.split(\"/|.json\",config_file)[2]\n",
    "vis_1 = vis(constants.RESULTS + '/n_var_' + file_name + '_' + constants.VISUALIZATION)\n",
    "with open(config_file) as json_data_file:\n",
    "    data = json.load(json_data_file)\n",
    "\n",
    "K = data['structure']['K']\n",
    "S = data['structure']['S']\n",
    "I = data['structure']['I']\n",
    "theta = data['structure']['theta']\n",
    "\n",
    "p_c_binom = data['C_variation']['p_c_binom']\n",
    "C_temp = data['C_variation']['C']\n",
    "repeat_temp = data['C_variation']['repeat']\n",
    "if C_temp is None:\n",
    "    C = None\n",
    "else:\n",
    "    C_t = []\n",
    "    for ct in range(len(C_temp)):\n",
    "        C_t.append(np.tile(C_temp[ct], (repeat_temp[ct], 1)))\n",
    "    C = np.concatenate(C_t)\n",
    "vis_1.heatmap_seaborn(C, 'C_seaborn', 'clones', 'mutations', False, 0.5)\n",
    "sns.set_theme()\n",
    "    \n",
    "ax = sns.heatmap(C, annot=False, linewidths=0.5)\n",
    "ax.set(xlabel='clones', ylabel='mutations')\n",
    "fig = ax.get_figure()\n",
    "fig.savefig(constants.RESULTS+'/C_seaborn_new' + '.png')\n",
    "plt.close()\n",
    "\n",
    "n_sampling = data['n_variation']['n_sampling']\n",
    "\n",
    "if data['n_variation']['n'] is not None:\n",
    "    n = np.array(data['n_variation']['n'])\n",
    "else:\n",
    "    n = None\n",
    "\n",
    "Z = data['Z_variation']['Z']\n",
    "avarage_clone_in_spot = data['Z_variation']['avarage_clone_in_spot']\n",
    "\n",
    "\n",
    "max_iter = np.int(data['smapling']['max_iter'])\n",
    "min_iter = np.int(data['smapling']['min_iter'])\n",
    "burn_in = np.int(data['smapling']['burn_in'])\n",
    "batch = np.int(data['smapling']['batch'])\n",
    "var_calculation = np.int(data['smapling']['min_iter']*0.9)\n",
    "\n",
    "phi_gamma = np.array(data['Gamma']['phi_gamma'])\n",
    "        # F could be None, In that case, it will be generated using dirichlet distribution\n",
    "F_epsilon = np.tile(data['Gamma']['F_epsilon'], (K, 1))\n",
    "F_fraction =  data['Gamma']['F_fraction']\n",
    "\n",
    "F = np.tile(data['Gamma']['F'], (K, 1))  # np.array([[9,2],[9,2],[9,2],[9,2],[9,2],[9,2]])\n",
    "phi_gamma_selected = np.array(data['Gamma']['phi_gamma_selected'])\n",
    "\n",
    "F_epsilon_selected = np.tile(data['Gamma']['F_epsilon_selected'], (K, 1))\n",
    "F_selected = np.tile(data['Gamma']['F_selected'], (K, 1))  # np.array([[9,2],[9,2],[9,2],[9,2],[9,2],[9,2]])\n",
    "gamma = data['theta']['gamma']\n",
    "gamma_sampling = data['theta']['gamma_sampling']\n",
    "theta_variable = data['theta']['theta_variable']\n",
    "\n",
    "n_lambda = np.tile(data['n_variation']['n_lambda'], (S))\n",
    "#while(True):\n",
    "sample_1 = sim(K=K,S=S,r=phi_gamma[0],p=phi_gamma[1],I=I,F=F,D=None,A=None,C=C,avarage_clone_in_spot=avarage_clone_in_spot,random_seed=random.randint(1,100),F_epsilon= F_epsilon,n=n,p_c_binom=p_c_binom,theta=theta,Z = Z,n_lambda=n_lambda,F_fraction=F_fraction,theta_variable=theta_variable,gamma=gamma, pi_2D=pi_2D)\n",
    "#    if  np.mean(np.sum(sample_1.D, axis=0)) > int(data['Gamma']['mean_read']) - 2 and np.mean(np.sum(sample_1.D, axis=0)) < int(data['Gamma']['mean_read']) + 2:\n",
    "#        break\n",
    "print('reads average: '+str(np.sum(sample_1.D, axis=0)))\n",
    "if noise=='0':\n",
    "    n_lambda_tum = sample_1.n\n",
    "else:\n",
    "    b = np.random.binomial(n=1,p=0.5,size=S)\n",
    "    noise_pois = np.random.poisson(lam=int(noise),size=S)\n",
    "    n_lambda_tum = sample_1.n+noise_pois*b+noise_pois*(b-1)\n",
    "    n_lambda_tum[n_lambda_tum<1]=1\n",
    "\n",
    "vis_1.visualizing_simulated_data(sample_1)\n",
    "pickle.dump(sample_1, open(constants.RESULTS+'/sample_1_'+file_name, 'wb'))\n",
    "\n",
    "tum_obj=(tum(name = constants.RESULTS +'/'+ file_name+'_chain_'+str(constants.CHAINS),K=sample_1.K,S=sample_1.S,r=phi_gamma_selected[0],p=phi_gamma_selected[1],I=sample_1.I,avarage_clone_in_spot=sample_1.avarage_clone_in_spot,F = F_selected,C = sample_1.C,A = sample_1.A,D = sample_1.D,F_epsilon=F_epsilon_selected,optimal_rate=optimal_rate,n_lambda = n_lambda_tum,gamma = gamma_sampling, pi_2D=pi_2D,result_txt=result_txt+file_name+'.txt'))\n",
    "tum_obj.gibbs_sampling(seed = random.randint(1,100) ,min_iter=min_iter,max_iter = max_iter,burn_in=burn_in, batch = batch,simulated_data= sample_1,n_sampling=True,F_fraction=F_fraction,theta_variable = theta_variable, pi_2D=pi_2D,th=th,every_n_sample=every_n_sample,changes_batch=changes_batch,var_calculation=var_calculation)\n",
    "pickle.dump(tum_obj, open(constants.RESULTS+'/tum_all_'+file_name, 'wb'))\n"
   ]
  },
  {
   "cell_type": "code",
   "execution_count": 64,
   "id": "9b23e4a6",
   "metadata": {},
   "outputs": [
    {
     "data": {
      "text/plain": [
       "<matplotlib.collections.PathCollection at 0x7feaac58b190>"
      ]
     },
     "execution_count": 64,
     "metadata": {},
     "output_type": "execute_result"
    },
    {
     "data": {
      "image/png": "[encoded data removed]",
      "text/plain": [
       "<Figure size 432x288 with 1 Axes>"
      ]
     },
     "metadata": {},
     "output_type": "display_data"
    }
   ],
   "source": [
    "plt.scatter(tum_obj.inferred_H.tolist(),sample_1.H.tolist())"
   ]
  },
  {
   "cell_type": "code",
   "execution_count": null,
   "id": "ea8e3c4e",
   "metadata": {},
   "outputs": [],
   "source": []
  }
 ],
 "metadata": {
  "kernelspec": {
   "display_name": "demo",
   "language": "python",
   "name": "demo"
  },
  "language_info": {
   "codemirror_mode": {
    "name": "ipython",
    "version": 3
   },
   "file_extension": ".py",
   "mimetype": "text/x-python",
   "name": "python",
   "nbconvert_exporter": "python",
   "pygments_lexer": "ipython3",
   "version": "3.8.13"
  }
 },
 "nbformat": 4,
 "nbformat_minor": 5
}
